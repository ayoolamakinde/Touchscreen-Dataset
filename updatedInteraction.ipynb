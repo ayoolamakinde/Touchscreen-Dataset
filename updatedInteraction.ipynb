{
 "cells": [
  {
   "cell_type": "code",
   "execution_count": 1,
   "metadata": {},
   "outputs": [],
   "source": [
    "import pandas as pd\n",
    "from sklearn.metrics import confusion_matrix, classification_report\n",
    "import sklearn.metrics as metrics\n",
    "from sklearn.preprocessing import StandardScaler\n",
    "from sklearn import svm\n",
    "import numpy as np\n",
    "import matplotlib.pyplot as plt\n",
    "import glob"
   ]
  },
  {
   "cell_type": "code",
   "execution_count": 2,
   "metadata": {},
   "outputs": [],
   "source": [
    "df_train = pd.concat([pd.read_csv(f, nrows= int(len(open(f).readlines())/2)) for f in glob.glob('interactions-UID_*.csv')], ignore_index = True, sort=False)\n",
    "df_test = pd.concat([pd.read_csv(f, skiprows=range(1,int(len(open(f).readlines())/2))) for f in glob.glob('interactions-UID_*.csv')], ignore_index = True, sort=False)"
   ]
  },
  {
   "cell_type": "code",
   "execution_count": 3,
   "metadata": {},
   "outputs": [
    {
     "data": {
      "text/plain": [
       "10589"
      ]
     },
     "execution_count": 3,
     "metadata": {},
     "output_type": "execute_result"
    }
   ],
   "source": [
    "len(df_train)"
   ]
  },
  {
   "cell_type": "code",
   "execution_count": 4,
   "metadata": {},
   "outputs": [
    {
     "data": {
      "text/plain": [
       "10610"
      ]
     },
     "execution_count": 4,
     "metadata": {},
     "output_type": "execute_result"
    }
   ],
   "source": [
    "len(df_test)"
   ]
  },
  {
   "cell_type": "code",
   "execution_count": 5,
   "metadata": {},
   "outputs": [],
   "source": [
    "def stanD(df):\n",
    "    df = df.replace(to_replace = np.nan, \n",
    "                 value = 0)\n",
    "    df[df==np.inf]=np.nan\n",
    "    df.fillna(df.mean(), inplace=True)\n",
    "    features = ['interStrokeTime','strokeDuration','startX','startY','stopX','stopY','distanceEndToEnd','meanResultantLength','UDLRflag','directionEndToEnd','20pcPairwiseVelocity','50pcPairwiseVelocity','80pcPairwiseVelocity','20pcPairwiseAccel','50pcPairwiseAccel','80pcPairwiseAccel','medianVelocityLast3Points','largestDeviationEndToEnd','20pcDeviationEndToEnd','50pcDeviationEndToEnd','80pcDeviationEndToEnd','averageDirection','trajectoryLength','distE2EandtrajLength','averageVelocity','medianAccellerationAtFirst5points','midStrokePressure','midStrokeAreaCovered','midStrokeFingerOrientation','changeFingerOrientation','phoneOrientation','docID','phoneID']\n",
    "    x = df.loc[:, features].values\n",
    "    y = df.loc[:,['userID']].values\n",
    "    x_scaled = StandardScaler().fit_transform(x)\n",
    "    x_value = pd.DataFrame(data = x_scaled, columns = features)\n",
    "    return x_value,y"
   ]
  },
  {
   "cell_type": "code",
   "execution_count": 6,
   "metadata": {},
   "outputs": [
    {
     "name": "stderr",
     "output_type": "stream",
     "text": [
      "C:\\Users\\rccg-\\anaconda3\\lib\\site-packages\\sklearn\\utils\\validation.py:760: DataConversionWarning: A column-vector y was passed when a 1d array was expected. Please change the shape of y to (n_samples, ), for example using ravel().\n",
      "  y = column_or_1d(y, warn=True)\n"
     ]
    }
   ],
   "source": [
    "# test one \n",
    "#df_test = df_test[df_test['userID'] == 34]\n",
    "\n",
    "\n",
    "# split train dataset into X and y\n",
    "trainSplit = stanD(df_train)\n",
    "\n",
    "# split test dataset into X and y\n",
    "testSplit = stanD(df_test)\n",
    "\n",
    "#SVM \n",
    "clf = svm.SVC(decision_function_shape='ovo')\n",
    "clf.fit(trainSplit[0], trainSplit[1])\n",
    "y_pred = clf.predict(testSplit[0])\n",
    "\n",
    "\n",
    "\n",
    "#testcount = testcount + 1"
   ]
  },
  {
   "cell_type": "code",
   "execution_count": 7,
   "metadata": {},
   "outputs": [
    {
     "name": "stdout",
     "output_type": "stream",
     "text": [
      "Accuracy: 0.5599434495758718\n",
      "[[ 95   0   0 ...   0   0   0]\n",
      " [  4 506   0 ...   9   1   0]\n",
      " [  0   0 160 ...   0   0   0]\n",
      " ...\n",
      " [  0   6   0 ...  50   0   0]\n",
      " [  0   0   0 ...   0 128   0]\n",
      " [  0   1   0 ...   0   0  61]]\n",
      "              precision    recall  f1-score   support\n",
      "\n",
      "           1       0.58      0.47      0.52       201\n",
      "           2       0.65      0.82      0.72       616\n",
      "           3       0.37      0.42      0.40       380\n",
      "           4       0.46      0.26      0.34       121\n",
      "           5       0.46      0.37      0.41       207\n",
      "           6       0.82      0.54      0.65       282\n",
      "           7       0.45      0.59      0.51       296\n",
      "           8       0.50      0.82      0.62       310\n",
      "           9       0.73      0.83      0.78       227\n",
      "          10       0.46      0.39      0.42       194\n",
      "          11       0.49      0.65      0.56       223\n",
      "          12       0.74      0.44      0.55       172\n",
      "          13       0.65      0.23      0.34       153\n",
      "          14       0.57      0.71      0.64       326\n",
      "          15       0.64      0.63      0.64       360\n",
      "          16       0.45      0.45      0.45       192\n",
      "          17       0.71      0.87      0.78       354\n",
      "          18       0.60      0.70      0.65       231\n",
      "          19       0.78      0.73      0.75       147\n",
      "          20       0.52      0.71      0.60       179\n",
      "          21       0.53      0.50      0.51       352\n",
      "          22       0.68      0.49      0.57       188\n",
      "          23       0.67      0.88      0.76       485\n",
      "          24       0.57      0.31      0.40       218\n",
      "          25       0.40      0.29      0.33       217\n",
      "          26       0.51      0.30      0.38       122\n",
      "          27       0.44      0.21      0.29       305\n",
      "          28       0.40      0.32      0.36       356\n",
      "          29       0.65      0.68      0.67       220\n",
      "          30       0.48      0.31      0.38       113\n",
      "          31       0.55      0.21      0.30       186\n",
      "          32       0.72      0.76      0.74       153\n",
      "          33       0.62      0.77      0.69       357\n",
      "          34       0.75      0.74      0.75       307\n",
      "          35       0.65      0.60      0.62       532\n",
      "          36       0.23      0.24      0.24       251\n",
      "          37       0.62      0.56      0.59       213\n",
      "          38       0.23      0.25      0.24       394\n",
      "          39       0.39      0.23      0.29       219\n",
      "          40       0.48      0.82      0.60       157\n",
      "          41       0.92      0.65      0.76        94\n",
      "\n",
      "    accuracy                           0.56     10610\n",
      "   macro avg       0.56      0.53      0.53     10610\n",
      "weighted avg       0.56      0.56      0.55     10610\n",
      "\n"
     ]
    }
   ],
   "source": [
    "#print accuracy_score for each value of user_ID\n",
    "print(\"Accuracy:\",metrics.accuracy_score(testSplit[1], y_pred))\n",
    "\n",
    "#print confusion matrix for each value of user_ID\n",
    "print(confusion_matrix(testSplit[1], y_pred))\n",
    "\n",
    "#print classification report for each value of user_ID\n",
    "print(classification_report(testSplit[1], y_pred))"
   ]
  },
  {
   "cell_type": "code",
   "execution_count": 8,
   "metadata": {},
   "outputs": [
    {
     "data": {
      "text/plain": [
       "array([0.00895382, 0.04769086, 0.01508011, 0.00301602, 0.00716305,\n",
       "       0.01423186, 0.01639962, 0.02403393, 0.01781338, 0.00716305,\n",
       "       0.0137606 , 0.0070688 , 0.00329877, 0.02186616, 0.02148916,\n",
       "       0.00819981, 0.02912347, 0.01526861, 0.01008483, 0.01196984,\n",
       "       0.01649387, 0.00867107, 0.0401508 , 0.0063148 , 0.00584354,\n",
       "       0.00348728, 0.0061263 , 0.01083883, 0.01413761, 0.00329877,\n",
       "       0.00367578, 0.01102733, 0.0260132 , 0.02139491, 0.02997172,\n",
       "       0.00565504, 0.01131008, 0.00933082, 0.00471254, 0.01206409,\n",
       "       0.00574929])"
      ]
     },
     "execution_count": 8,
     "metadata": {},
     "output_type": "execute_result"
    }
   ],
   "source": [
    "from sklearn.metrics import confusion_matrix\n",
    "matrix = confusion_matrix(testSplit[1], y_pred)\n",
    "matrix.diagonal()/matrix.sum()"
   ]
  },
  {
   "cell_type": "code",
   "execution_count": null,
   "metadata": {},
   "outputs": [],
   "source": []
  }
 ],
 "metadata": {
  "kernelspec": {
   "display_name": "Python 3",
   "language": "python",
   "name": "python3"
  },
  "language_info": {
   "codemirror_mode": {
    "name": "ipython",
    "version": 3
   },
   "file_extension": ".py",
   "mimetype": "text/x-python",
   "name": "python",
   "nbconvert_exporter": "python",
   "pygments_lexer": "ipython3",
   "version": "3.7.6"
  }
 },
 "nbformat": 4,
 "nbformat_minor": 2
}
